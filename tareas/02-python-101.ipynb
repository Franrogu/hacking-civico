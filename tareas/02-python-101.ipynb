{
  "nbformat": 4,
  "nbformat_minor": 0,
  "metadata": {
    "colab": {
      "name": "02.python-101.ipynb",
      "provenance": [],
      "authorship_tag": "ABX9TyO3lGjcxYVGKbAo6o4rDnzT",
      "include_colab_link": true
    },
    "kernelspec": {
      "name": "python3",
      "display_name": "Python 3"
    }
  },
  "cells": [
    {
      "cell_type": "markdown",
      "metadata": {
        "id": "view-in-github",
        "colab_type": "text"
      },
      "source": [
        "<a href=\"https://colab.research.google.com/github/Franrogu/hacking-civico/blob/master/tareas/02-python-101.ipynb\" target=\"_parent\"><img src=\"https://colab.research.google.com/assets/colab-badge.svg\" alt=\"Open In Colab\"/></a>"
      ]
    },
    {
      "cell_type": "code",
      "metadata": {
        "id": "qg9D6ixsibJ-",
        "colab_type": "code",
        "colab": {
          "base_uri": "https://localhost:8080/",
          "height": 101
        },
        "outputId": "0275c907-73d3-4174-a451-ab01ede19c3b"
      },
      "source": [
        "print(\"Ingrese poblacion del lugar: \")\n",
        "poblacion= int(input())\n",
        "print(\"Ingrese área del lugar en kilometros cuadrados: \")\n",
        "area_ciudad=int(input())\n",
        "\n",
        "def densidad_poblacional(poblacion,area_ciudad):\n",
        "  densidad=(poblacion/area_ciudad)\n",
        "  return densidad \n",
        "\n",
        "dp = densidad_poblacional(poblacion,area_ciudad)\n",
        "\n",
        "print(\"La densidad poblacional es: \",dp,\" Habitantes por km^2\")"
      ],
      "execution_count": 12,
      "outputs": [
        {
          "output_type": "stream",
          "text": [
            "Ingrese poblacion del lugar: \n",
            "126200000\n",
            "Ingrese área del lugar en kilometros cuadrados: \n",
            "1973000\n",
            "La densidad poblacional es:  63.963507349214396  Habitantes por km^2\n"
          ],
          "name": "stdout"
        }
      ]
    }
  ]
}